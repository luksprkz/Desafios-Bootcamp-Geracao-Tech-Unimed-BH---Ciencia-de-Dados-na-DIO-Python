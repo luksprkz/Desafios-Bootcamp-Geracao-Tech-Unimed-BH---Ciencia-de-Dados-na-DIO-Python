{
  "nbformat": 4,
  "nbformat_minor": 0,
  "metadata": {
    "colab": {
      "provenance": [],
      "collapsed_sections": [],
      "mount_file_id": "1xQH5-U59BqlU5I5k16d4NPggARbmlNSs",
      "authorship_tag": "ABX9TyOuZwUPJlr5ya5njrVh7yZu",
      "include_colab_link": true
    },
    "kernelspec": {
      "name": "python3",
      "display_name": "Python 3"
    },
    "language_info": {
      "name": "python"
    }
  },
  "cells": [
    {
      "cell_type": "markdown",
      "metadata": {
        "id": "view-in-github",
        "colab_type": "text"
      },
      "source": [
        "<a href=\"https://colab.research.google.com/github/luksprkz/Desafios-Bootcamp-Geracao-Tech-Unimed-BH---Ciencia-de-Dados-na-DIO-Python/blob/main/pandas_excel.ipynb\" target=\"_parent\"><img src=\"https://colab.research.google.com/assets/colab-badge.svg\" alt=\"Open In Colab\"/></a>"
      ]
    },
    {
      "cell_type": "code",
      "execution_count": null,
      "metadata": {
        "id": "OgiRt2KRID8M"
      },
      "outputs": [],
      "source": [
        "import pandas as pd"
      ]
    },
    {
      "cell_type": "code",
      "source": [
        "df1 = pd.read_excel('/content/drive/MyDrive/Colab Notebooks/datasets/Aracaju.xlsx')\n",
        "df2 = pd.read_excel('/content/drive/MyDrive/Colab Notebooks/datasets/Fortaleza.xlsx')\n",
        "df3 = pd.read_excel('/content/drive/MyDrive/Colab Notebooks/datasets/Natal.xlsx')\n",
        "df4 = pd.read_excel('/content/drive/MyDrive/Colab Notebooks/datasets/Recife.xlsx')\n",
        "df5 = pd.read_excel('/content/drive/MyDrive/Colab Notebooks/datasets/Salvador.xlsx')"
      ],
      "metadata": {
        "id": "p4Rbx6MpIkOi"
      },
      "execution_count": null,
      "outputs": []
    },
    {
      "cell_type": "code",
      "source": [
        "#concatenando(juntando) todos os arquivos\n",
        "df = pd.concat([df1,df2,df3,df4,df5])\n",
        "#mostrando os tipos de dados das colunas\n",
        "df"
      ],
      "metadata": {
        "id": "QH52cjcUJ7c_"
      },
      "execution_count": null,
      "outputs": []
    },
    {
      "cell_type": "code",
      "source": [
        "#amosta dentro da tabela\n",
        "df.sample(20)\n",
        "#substituindo os valores nulos por 0\n",
        "df['Vendas'].fillna(0, inplace=True)"
      ],
      "metadata": {
        "id": "bGcav5IrKVMU"
      },
      "execution_count": null,
      "outputs": []
    },
    {
      "cell_type": "code",
      "source": [
        "#substituindo os valores nulos pela média de uma coluna\n",
        "df['Vendas'].fillna(df['Vendas'].mean(), inplace=True)"
      ],
      "metadata": {
        "id": "QJsFkheE1mPe"
      },
      "execution_count": null,
      "outputs": []
    },
    {
      "cell_type": "code",
      "source": [
        "#verifica quantas linhas tem valores nulos em cada coluna\n",
        "df.isnull().sum()"
      ],
      "metadata": {
        "id": "axzWIc9_RKrG"
      },
      "execution_count": null,
      "outputs": []
    },
    {
      "cell_type": "code",
      "source": [
        "#alterar o tipo de algum dado dentro da coluna\n",
        "df['LojaID'] = df['LojaID'].astype('object')"
      ],
      "metadata": {
        "id": "JtKsIpiyK1Zn"
      },
      "execution_count": null,
      "outputs": []
    },
    {
      "cell_type": "code",
      "source": [
        "#substituindo os valores nulos pela média(mean)\n",
        "df['Vendas'].fillna(df['Vendas'].mean(), inplace=True)\n",
        "#definindo a coluna vendas como do tipo inteiro\n",
        "df['Vendas'] = df['Vendas'].astype('int')\n",
        "df['Qtde'] = df['Qtde'].astype('int')\n",
        "df.head(10)"
      ],
      "metadata": {
        "id": "yDHXxnTjP0xV"
      },
      "execution_count": null,
      "outputs": []
    },
    {
      "cell_type": "code",
      "source": [
        "#remover todas linhas com valores nulos\n",
        "df.dropna(inplace=True)\n",
        "#remover as linhas com valores nulos em uma coluna específica\n",
        "df.dropna(subset=['Vendas'],inplace=True)\n",
        "#remover linas cujos valores em todas as colunas sejam nulos\n",
        "df.dropna(how='all', inplace=True)"
      ],
      "metadata": {
        "id": "R4jLTEw1Qi_j"
      },
      "execution_count": null,
      "outputs": []
    },
    {
      "cell_type": "code",
      "source": [
        "#criando uma coluna('Receita') - (* ou . mul)\n",
        "df['Receita'] = df['Vendas'].mul(df['Qtde'])"
      ],
      "metadata": {
        "id": "iOKlrGXkUSgz"
      },
      "execution_count": null,
      "outputs": []
    },
    {
      "cell_type": "code",
      "source": [
        "df['Receita'] = df['Receita'].astype('float')"
      ],
      "metadata": {
        "id": "ALgEjiEIxocH"
      },
      "execution_count": null,
      "outputs": []
    },
    {
      "cell_type": "code",
      "source": [
        "#maior valor na coluna\n",
        "df['Receita'].max()"
      ],
      "metadata": {
        "id": "0RNjK7yxUfIO"
      },
      "execution_count": null,
      "outputs": []
    },
    {
      "cell_type": "code",
      "source": [
        "#menor valor na coluna\n",
        "df['Receita'].min()"
      ],
      "metadata": {
        "id": "sTKo7JrSVGP-"
      },
      "execution_count": null,
      "outputs": []
    },
    {
      "cell_type": "code",
      "source": [
        "#maiores valores dentro da coluna (parâmetro, coluna)\n",
        "df.nlargest(3,'Receita')"
      ],
      "metadata": {
        "id": "V8h9HaYUVVOE"
      },
      "execution_count": null,
      "outputs": []
    },
    {
      "cell_type": "code",
      "source": [
        "#menores valores dentro da coluna (parâmetro, coluna)\n",
        "df.nsmallest(10,'Receita')"
      ],
      "metadata": {
        "id": "u8zbD28VV3-a"
      },
      "execution_count": null,
      "outputs": []
    },
    {
      "cell_type": "code",
      "source": [
        "#agrupar e mostrar quem tem a maior receita total\n",
        "df.groupby('Cidade')['Receita'].sum()"
      ],
      "metadata": {
        "id": "k6q9lNrBWJr2"
      },
      "execution_count": null,
      "outputs": []
    },
    {
      "cell_type": "code",
      "source": [
        "#agrupar e mostrar quem tem a maior receita média\n",
        "df.groupby('Data')['Receita'].mean()"
      ],
      "metadata": {
        "id": "vP8Fw8v-WreH"
      },
      "execution_count": null,
      "outputs": []
    },
    {
      "cell_type": "code",
      "source": [
        "#ordenando o conjunto de dados\n",
        "df.sort_values('Receita', ascending=True).head(20)"
      ],
      "metadata": {
        "id": "LWe-lNQJXS8d"
      },
      "execution_count": null,
      "outputs": []
    },
    {
      "cell_type": "code",
      "source": [
        "#agrupando as colunas 'Data' à coluna 'Receita' e ordenando pela 'Receita'\n",
        "df = df.groupby(by=['Data', 'Receita']).sum().sort_values(by='Receita', ascending=False)\n",
        "df.head(10)"
      ],
      "metadata": {
        "id": "dtE2Yr9f3Tt-"
      },
      "execution_count": null,
      "outputs": []
    },
    {
      "cell_type": "markdown",
      "source": [
        "# TRABALHANDO COM DATAS"
      ],
      "metadata": {
        "id": "ZzkdulWA574W"
      }
    },
    {
      "cell_type": "code",
      "source": [
        "#transformando 'Data' em int e depois em date time\n",
        "df['Data'] = df['Data'].astype('int')\n",
        "df['Data'] = pd.to_datetime(df['Data'])\n",
        "df.dtypes"
      ],
      "metadata": {
        "id": "obPUojdi6IQm"
      },
      "execution_count": null,
      "outputs": []
    },
    {
      "cell_type": "code",
      "source": [
        "#agrupamento por ano\n",
        "df.groupby(df['Data'].dt.year)['Receita'].sum()"
      ],
      "metadata": {
        "id": "dx2tethv7yPl"
      },
      "execution_count": null,
      "outputs": []
    },
    {
      "cell_type": "code",
      "source": [
        "#criando uma coluna para o ano\n",
        "df['Ano_Vendas'] = df['Data'].dt.year"
      ],
      "metadata": {
        "id": "YxGa-xBQ8Q79"
      },
      "execution_count": null,
      "outputs": []
    },
    {
      "cell_type": "code",
      "source": [
        "df['Mes_Vendas'], df['Dia_Vendas'] = (df['Data'].dt.month, df['Data'].dt.day)"
      ],
      "metadata": {
        "id": "ntSqFF-68wAt"
      },
      "execution_count": null,
      "outputs": []
    },
    {
      "cell_type": "code",
      "source": [
        "#mostrando a menor(primeira) data\n",
        "df['Data'].max()"
      ],
      "metadata": {
        "id": "r2Y2nLbM9hfm"
      },
      "execution_count": null,
      "outputs": []
    },
    {
      "cell_type": "code",
      "source": [
        "#calculando a diferença de dias\n",
        "df['Diferença_de_Dias'] = df['Data'] - df['Data'].min()"
      ],
      "metadata": {
        "id": "zJTAlmKe-Kvv"
      },
      "execution_count": null,
      "outputs": []
    },
    {
      "cell_type": "code",
      "source": [
        "#criando a coluna de trimestre\n",
        "df['Trimestre_de_Vendas'] = df['Data'].dt.quarter\n",
        "df.sample(5)"
      ],
      "metadata": {
        "id": "ACEt1E75-90f"
      },
      "execution_count": null,
      "outputs": []
    },
    {
      "cell_type": "code",
      "source": [
        "#filtrando as vendas de 2019 de um mês específico\n",
        "vendas_marco_2019 = df.loc[(df['Data'].dt.year == 2019) & (df['Data'].dt.month == 3)]\n",
        "vendas_marco_2019"
      ],
      "metadata": {
        "id": "A0a3KkfH_gFx"
      },
      "execution_count": null,
      "outputs": []
    },
    {
      "cell_type": "code",
      "source": [
        "vendas_2019 = df.loc[(df['Data'].dt.year == 2019)]\n",
        "vendas_2019"
      ],
      "metadata": {
        "id": "aGpb2jyRDhut"
      },
      "execution_count": null,
      "outputs": []
    },
    {
      "cell_type": "code",
      "source": [
        "vendas_2018 = df.loc[(df['Data'].dt.year == 2018)]\n",
        "vendas_2018"
      ],
      "metadata": {
        "id": "nohUUP_XD4TE"
      },
      "execution_count": null,
      "outputs": []
    },
    {
      "cell_type": "code",
      "source": [
        "Natal_2018 = df.loc[(df['Data'].dt.year == 2018) & (df['Cidade'] == 'Natal')]\n",
        "Natal_2018"
      ],
      "metadata": {
        "id": "sDFyKAdBJUC2"
      },
      "execution_count": null,
      "outputs": []
    },
    {
      "cell_type": "code",
      "source": [
        "Natal_2019 = df.loc[(df['Data'].dt.year == 2019) & (df['Cidade'] == 'Natal')]\n",
        "Natal_2019"
      ],
      "metadata": {
        "id": "S_a76ffGIT9A"
      },
      "execution_count": null,
      "outputs": []
    },
    {
      "cell_type": "markdown",
      "source": [
        "# **VISUALIZAÇÃO DE DADOS**"
      ],
      "metadata": {
        "id": "kf6RBt0eA8qb"
      }
    },
    {
      "cell_type": "code",
      "source": [
        "#contando os valores de linhas representadas na coluna\n",
        "df['LojaID'].value_counts(ascending=False)"
      ],
      "metadata": {
        "id": "EHkUpiqvBEFF"
      },
      "execution_count": null,
      "outputs": []
    },
    {
      "cell_type": "code",
      "source": [
        "#grafico de barras (matplotlib.pyplot)\n",
        "df['LojaID'].value_counts(ascending=False).plot.bar();"
      ],
      "metadata": {
        "id": "dQakWNkFBz04"
      },
      "execution_count": null,
      "outputs": []
    },
    {
      "cell_type": "code",
      "source": [
        "#grafico de barras horizontais (matplotlib.pyplot)\n",
        "df['LojaID'].value_counts(ascending=True).plot.barh();"
      ],
      "metadata": {
        "id": "AryKL10WCSwL"
      },
      "execution_count": null,
      "outputs": []
    },
    {
      "cell_type": "code",
      "source": [
        "#grafico de pizza da receita por mês em 2018 (matplotlib.pyplot)\n",
        "vendas_2018.groupby(vendas_2018['Data'].dt.month)['Receita'].sum().plot.pie();"
      ],
      "metadata": {
        "id": "Hsq8tMsHCwul"
      },
      "execution_count": null,
      "outputs": []
    },
    {
      "cell_type": "code",
      "source": [
        "#grafico de pizza da receita por mês em 2019 (matplotlib.pyplot)\n",
        "vendas_2019.groupby(vendas_2019['Data'].dt.month)['Receita'].sum().plot.pie();"
      ],
      "metadata": {
        "id": "d0Np6e6YD7KV"
      },
      "execution_count": null,
      "outputs": []
    },
    {
      "cell_type": "code",
      "source": [
        "#grafico de pizza da receita por mês em todo o periodo (matplotlib.pyplot)\n",
        "df.groupby(df['Data'].dt.month)['Receita'].sum().plot.pie();"
      ],
      "metadata": {
        "id": "vdeu8ccrElVm"
      },
      "execution_count": null,
      "outputs": []
    },
    {
      "cell_type": "code",
      "source": [
        "#contagem de quantas vendas fora realizadas por cidade \n",
        "df['Cidade'].value_counts(ascending=True)"
      ],
      "metadata": {
        "id": "GIKhLePHGx0l"
      },
      "execution_count": null,
      "outputs": []
    },
    {
      "cell_type": "code",
      "source": [
        "#grafico de receita total por cidade\n",
        "df.groupby(df['Cidade'])['Receita'].sum().plot.barh();"
      ],
      "metadata": {
        "id": "vtRe4GHtFp6e"
      },
      "execution_count": null,
      "outputs": []
    },
    {
      "cell_type": "code",
      "source": [
        "#grafico de receita em Natal no ano de 2018, separado por mês\n",
        "Natal_2018.groupby(Natal_2018['Data'].dt.month)['Receita'].sum().plot.pie();"
      ],
      "metadata": {
        "id": "8YXxd3jlJY4M"
      },
      "execution_count": null,
      "outputs": []
    },
    {
      "cell_type": "code",
      "source": [
        "#grafico de receita em Natal no ano de 2019, separado por mês\n",
        "Natal_2019.groupby(Natal_2019['Data'].dt.month)['Receita'].sum().plot.pie();"
      ],
      "metadata": {
        "id": "_7_0RCkHI45m"
      },
      "execution_count": null,
      "outputs": []
    },
    {
      "cell_type": "code",
      "source": [
        "#adicionando um título e alterando os nomes dos eixos\n",
        "import matplotlib.pyplot as plt\n",
        "df['Cidade'].value_counts(ascending=True).plot.barh(title='Total de vendas por cidade', color='purple')\n",
        "plt.xlabel('Cidade')\n",
        "plt.ylabel('Total de vendas')"
      ],
      "metadata": {
        "id": "e94XPstcVoL1"
      },
      "execution_count": null,
      "outputs": []
    },
    {
      "cell_type": "code",
      "source": [
        "#alterando o estilo do gráfico\n",
        "plt.style.use('ggplot')"
      ],
      "metadata": {
        "id": "Z3AE0uLLW3of"
      },
      "execution_count": null,
      "outputs": []
    },
    {
      "cell_type": "code",
      "source": [
        "df_2019 = df[df['Ano_Vendas'] == 2019]\n",
        "df_2019.groupby(df_2019['Mes_Vendas'])['Qtde'].sum().plot(title='Total de vendas por mês(2019)', color='purple', marker='o')\n",
        "plt.xlabel('Mês')\n",
        "plt.ylabel('Produtos vendidos')\n",
        "plt.legend();"
      ],
      "metadata": {
        "id": "9fajcIwhbVr_"
      },
      "execution_count": null,
      "outputs": []
    },
    {
      "cell_type": "code",
      "source": [
        "plt.hist(df['Qtde'], color='midnightblue');"
      ],
      "metadata": {
        "id": "pnGvrz2RfRro"
      },
      "execution_count": null,
      "outputs": []
    },
    {
      "cell_type": "code",
      "source": [
        "plt.scatter(x=df_2019['Dia_Vendas'], y=df_2019['Receita'], color='midnightblue');\n",
        "plt.xlabel('Dia da venda')\n",
        "plt.ylabel('Receita auferida');"
      ],
      "metadata": {
        "id": "PnEyurDvgg10"
      },
      "execution_count": null,
      "outputs": []
    },
    {
      "cell_type": "code",
      "source": [
        "df.groupby(df['Mes_Venda'])['Qtde'].sum().plot(title='Total de vendas por mês', color='purple')\n",
        "plt.xlabel('Mês')\n",
        "plt.ylabel('Produtos vendidos')\n",
        "plt.legend()\n",
        "#salvar o gráfico em arquivo.png\n",
        "plt.savefig(\"grafico Qtde x Mês de venda.png\");"
      ],
      "metadata": {
        "colab": {
          "base_uri": "https://localhost:8080/",
          "height": 300
        },
        "id": "8U1k9kavYwrQ",
        "outputId": "8bbee0da-0002-4797-880a-3d1c67e8c059"
      },
      "execution_count": null,
      "outputs": [
        {
          "output_type": "display_data",
          "data": {
            "text/plain": [
              "<Figure size 432x288 with 1 Axes>"
            ],
            "image/png": "[encoded data removed]"
          },
          "metadata": {}
        }
      ]
    }
  ]
}