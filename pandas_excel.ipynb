{
  "nbformat": 4,
  "nbformat_minor": 0,
  "metadata": {
    "colab": {
      "provenance": [],
      "collapsed_sections": [],
      "mount_file_id": "1xQH5-U59BqlU5I5k16d4NPggARbmlNSs",
      "authorship_tag": "ABX9TyMcNX5mFTSgM+fhStDQUzDP",
      "include_colab_link": true
    },
    "kernelspec": {
      "name": "python3",
      "display_name": "Python 3"
    },
    "language_info": {
      "name": "python"
    }
  },
  "cells": [
    {
      "cell_type": "markdown",
      "metadata": {
        "id": "view-in-github",
        "colab_type": "text"
      },
      "source": [
        "<a href=\"https://colab.research.google.com/github/luksprkz/Desafios-Bootcamp-Geracao-Tech-Unimed-BH---Ciencia-de-Dados-na-DIO-Python/blob/main/pandas_excel.ipynb\" target=\"_parent\"><img src=\"https://colab.research.google.com/assets/colab-badge.svg\" alt=\"Open In Colab\"/></a>"
      ]
    },
    {
      "cell_type": "code",
      "execution_count": 142,
      "metadata": {
        "id": "OgiRt2KRID8M"
      },
      "outputs": [],
      "source": [
        "import pandas as pd"
      ]
    },
    {
      "cell_type": "code",
      "source": [
        "df1 = pd.read_excel('/content/drive/MyDrive/Colab Notebooks/datasets/Aracaju.xlsx')\n",
        "df2 = pd.read_excel('/content/drive/MyDrive/Colab Notebooks/datasets/Fortaleza.xlsx')\n",
        "df3 = pd.read_excel('/content/drive/MyDrive/Colab Notebooks/datasets/Natal.xlsx')\n",
        "df4 = pd.read_excel('/content/drive/MyDrive/Colab Notebooks/datasets/Recife.xlsx')\n",
        "df5 = pd.read_excel('/content/drive/MyDrive/Colab Notebooks/datasets/Salvador.xlsx')"
      ],
      "metadata": {
        "id": "p4Rbx6MpIkOi"
      },
      "execution_count": 143,
      "outputs": []
    },
    {
      "cell_type": "code",
      "source": [
        "#concatenando(juntando) todos os arquivos\n",
        "df = pd.concat([df1,df2,df3,df4,df5])\n",
        "df.dtypes\n",
        "df.head()"
      ],
      "metadata": {
        "id": "QH52cjcUJ7c_"
      },
      "execution_count": null,
      "outputs": []
    },
    {
      "cell_type": "code",
      "source": [
        "#amosta dentro da tabela\n",
        "df.sample(20)\n",
        "#substituindo os valores nulos por 0\n",
        "df['Vendas'].fillna(0, inplace=True)"
      ],
      "metadata": {
        "id": "bGcav5IrKVMU"
      },
      "execution_count": null,
      "outputs": []
    },
    {
      "cell_type": "code",
      "source": [
        "#substituindo os valores nulos pela média de uma coluna\n",
        "df['Vendas'].fillna(df['Vendas'].mean(), inplace=True)"
      ],
      "metadata": {
        "id": "QJsFkheE1mPe"
      },
      "execution_count": 145,
      "outputs": []
    },
    {
      "cell_type": "code",
      "source": [
        "#verifica quantas linhas tem valores nulos em cada coluna\n",
        "df.isnull().sum()"
      ],
      "metadata": {
        "id": "axzWIc9_RKrG"
      },
      "execution_count": null,
      "outputs": []
    },
    {
      "cell_type": "code",
      "source": [
        "#alterar o tipo de algum dado dentro da coluna\n",
        "df['LojaID'] = df['LojaID'].astype('object')"
      ],
      "metadata": {
        "id": "JtKsIpiyK1Zn"
      },
      "execution_count": null,
      "outputs": []
    },
    {
      "cell_type": "code",
      "source": [
        "df.dtypes"
      ],
      "metadata": {
        "id": "7j6q086lLbu1"
      },
      "execution_count": null,
      "outputs": []
    },
    {
      "cell_type": "code",
      "source": [
        "#substituindo os valores nulos pela média(mean)\n",
        "df['Vendas'].fillna(df['Vendas'].mean(), inplace=True)\n",
        "#definindo a coluna vendas como do tipo inteiro\n",
        "df['Vendas'] = df['Vendas'].astype('int')\n",
        "df['Qtde'] = df['Qtde'].astype('int')\n",
        "df.head(10)"
      ],
      "metadata": {
        "id": "yDHXxnTjP0xV"
      },
      "execution_count": null,
      "outputs": []
    },
    {
      "cell_type": "code",
      "source": [
        "#remover todas linhas com valores nulos\n",
        "df.dropna(inplace=True)\n",
        "#remover as linhas com valores nulos em uma coluna específica\n",
        "df.dropna(subset=['Vendas'],inplace=True)\n",
        "#remover linas cujos valores em todas as colunas sejam nulos\n",
        "df.dropna(how='all', inplace=True)"
      ],
      "metadata": {
        "id": "R4jLTEw1Qi_j"
      },
      "execution_count": null,
      "outputs": []
    },
    {
      "cell_type": "code",
      "source": [
        "#criando uma coluna('Receita') - (* ou . mul)\n",
        "df['Receita'] = df['Vendas'].mul(df['Qtde'])"
      ],
      "metadata": {
        "id": "iOKlrGXkUSgz"
      },
      "execution_count": 152,
      "outputs": []
    },
    {
      "cell_type": "code",
      "source": [
        "df['Receita'] = df['Receita'].astype('float')"
      ],
      "metadata": {
        "id": "ALgEjiEIxocH"
      },
      "execution_count": 148,
      "outputs": []
    },
    {
      "cell_type": "code",
      "source": [
        "#maior valor na coluna\n",
        "df['Receita'].max()"
      ],
      "metadata": {
        "id": "0RNjK7yxUfIO"
      },
      "execution_count": null,
      "outputs": []
    },
    {
      "cell_type": "code",
      "source": [
        "#menor valor na coluna\n",
        "df['Receita'].min()"
      ],
      "metadata": {
        "id": "sTKo7JrSVGP-"
      },
      "execution_count": null,
      "outputs": []
    },
    {
      "cell_type": "code",
      "source": [
        "#maiores valores dentro da coluna (parâmetro, coluna)\n",
        "df.nlargest(3,'Receita')"
      ],
      "metadata": {
        "id": "V8h9HaYUVVOE"
      },
      "execution_count": null,
      "outputs": []
    },
    {
      "cell_type": "code",
      "source": [
        "#menores valores dentro da coluna (parâmetro, coluna)\n",
        "df.nsmallest(10,'Receita')"
      ],
      "metadata": {
        "id": "u8zbD28VV3-a"
      },
      "execution_count": null,
      "outputs": []
    },
    {
      "cell_type": "code",
      "source": [
        "#agrupar e mostrar quem tem a maior receita total\n",
        "df.groupby('Cidade')['Receita'].sum()"
      ],
      "metadata": {
        "id": "k6q9lNrBWJr2"
      },
      "execution_count": null,
      "outputs": []
    },
    {
      "cell_type": "code",
      "source": [
        "#agrupar e mostrar quem tem a maior receita média\n",
        "df.groupby('Data')['Receita'].mean()"
      ],
      "metadata": {
        "id": "vP8Fw8v-WreH"
      },
      "execution_count": null,
      "outputs": []
    },
    {
      "cell_type": "code",
      "source": [
        "#ordenando o conjunto de dados\n",
        "df.sort_values('Receita', ascending=True).head(20)"
      ],
      "metadata": {
        "id": "LWe-lNQJXS8d"
      },
      "execution_count": null,
      "outputs": []
    },
    {
      "cell_type": "code",
      "source": [
        "#agrupando as colunas 'Data' à coluna 'Receita' e ordenando pela 'Receita'\n",
        "df = df.groupby(by=['Data', 'Receita']).sum().sort_values(by='Receita', ascending=False)\n",
        "df.head(10)"
      ],
      "metadata": {
        "id": "dtE2Yr9f3Tt-"
      },
      "execution_count": null,
      "outputs": []
    }
  ]
}