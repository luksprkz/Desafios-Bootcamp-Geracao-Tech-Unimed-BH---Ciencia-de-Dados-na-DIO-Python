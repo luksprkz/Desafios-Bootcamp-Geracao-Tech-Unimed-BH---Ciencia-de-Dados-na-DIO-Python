{
  "nbformat": 4,
  "nbformat_minor": 0,
  "metadata": {
    "colab": {
      "provenance": [],
      "mount_file_id": "1AZc0QUX8jzRNN2qW-eGYcTXw8O8SaG0J",
      "authorship_tag": "ABX9TyPdD1QBFMZ58qgsLvSDF+KC",
      "include_colab_link": true
    },
    "kernelspec": {
      "name": "python3",
      "display_name": "Python 3"
    },
    "language_info": {
      "name": "python"
    }
  },
  "cells": [
    {
      "cell_type": "markdown",
      "metadata": {
        "id": "view-in-github",
        "colab_type": "text"
      },
      "source": [
        "<a href=\"https://colab.research.google.com/github/luksprkz/Desafios-Bootcamp-Geracao-Tech-Unimed-BH---Ciencia-de-Dados-na-DIO-Python/blob/main/An%C3%A1lise_explorat%C3%B3ria_com_pandas.ipynb\" target=\"_parent\"><img src=\"https://colab.research.google.com/assets/colab-badge.svg\" alt=\"Open In Colab\"/></a>"
      ]
    },
    {
      "cell_type": "code",
      "execution_count": 8,
      "metadata": {
        "id": "H2E3fOPmmQcC"
      },
      "outputs": [],
      "source": [
        "import pandas as pd\n",
        "import matplotlib.pyplot as plt\n",
        "plt.style.use('seaborn')"
      ]
    },
    {
      "cell_type": "code",
      "source": [
        "from google.colab import files\n",
        "arq = files.upload()"
      ],
      "metadata": {
        "id": "tnHWazJVmhvL"
      },
      "execution_count": null,
      "outputs": []
    },
    {
      "cell_type": "code",
      "source": [
        "df = pd.read_excel('AdventureWorks.xlsx')"
      ],
      "metadata": {
        "id": "eAOKFwlanU8T"
      },
      "execution_count": 10,
      "outputs": []
    },
    {
      "cell_type": "code",
      "source": [
        "df.dtypes"
      ],
      "metadata": {
        "id": "68o1dQ4Snbe7"
      },
      "execution_count": null,
      "outputs": []
    },
    {
      "cell_type": "code",
      "source": [
        "#mostrar o produto mais vendido\n",
        "df.groupby('ID Produto')['Quantidade'].sum()"
      ],
      "metadata": {
        "colab": {
          "base_uri": "https://localhost:8080/"
        },
        "id": "uQMtecpxombZ",
        "outputId": "e6c585f2-3303-4cfe-b6ff-50179118d9cd"
      },
      "execution_count": 210,
      "outputs": [
        {
          "output_type": "execute_result",
          "data": {
            "text/plain": [
              "ID Produto\n",
              "366      1089\n",
              "384      1047\n",
              "1155      926\n",
              "1178      789\n",
              "1202      845\n",
              "1203     1087\n",
              "1226      884\n",
              "2496    25232\n",
              "2497    25008\n",
              "Name: Quantidade, dtype: int64"
            ]
          },
          "metadata": {},
          "execution_count": 210
        }
      ]
    },
    {
      "cell_type": "code",
      "source": [
        "#mostrar o produto com a maior receita total\n",
        "df.groupby('ID Produto')['Valor Venda'].sum()"
      ],
      "metadata": {
        "id": "o5sA-OBgqH9z"
      },
      "execution_count": null,
      "outputs": []
    },
    {
      "cell_type": "code",
      "source": [
        "#criando a coluna custo\n",
        "df['Custo'] = df['Custo Unitário'].mul(df['Quantidade'])\n",
        "df.head()"
      ],
      "metadata": {
        "id": "Jug_GXzNqo_D"
      },
      "execution_count": null,
      "outputs": []
    },
    {
      "cell_type": "code",
      "source": [
        "#criando a coluna lucro \n",
        "df['Lucro'] = df['Valor Venda']-df['Custo']\n",
        "df.sample(20)"
      ],
      "metadata": {
        "id": "TodAqG7FrndR"
      },
      "execution_count": null,
      "outputs": []
    },
    {
      "cell_type": "code",
      "source": [
        "#arredondar o lucro em 2 casas decimais\n",
        "round(df['Lucro'].sum(),2)"
      ],
      "metadata": {
        "id": "KhzwwJUbrLYJ"
      },
      "execution_count": null,
      "outputs": []
    },
    {
      "cell_type": "code",
      "source": [
        "round(df['Lucro'].sum())"
      ],
      "metadata": {
        "id": "vXtB00u5tvZf"
      },
      "execution_count": null,
      "outputs": []
    },
    {
      "cell_type": "code",
      "source": [
        "#criando coluna de tempo de envio do produto\n",
        "df['Tempo de Envio'] = df['Data Envio'] - df['Data Venda']\n",
        "df.sample()"
      ],
      "metadata": {
        "id": "rV0x4FyeuH1B"
      },
      "execution_count": null,
      "outputs": []
    },
    {
      "cell_type": "code",
      "source": [
        "#média do tempo de envio\n",
        "df['Tempo de Envio'].mean()"
      ],
      "metadata": {
        "id": "hzp660WiuevD"
      },
      "execution_count": null,
      "outputs": []
    },
    {
      "cell_type": "code",
      "source": [
        "df['Tempo de Envio'] = (df['Data Envio'] - df['Data Venda']).dt.days"
      ],
      "metadata": {
        "id": "Z4dU17j5wtBD"
      },
      "execution_count": 110,
      "outputs": []
    },
    {
      "cell_type": "code",
      "source": [
        "df.groupby(df['Marca'])['Tempo de Envio'].mean().plot(color='midnightblue')\n",
        "plt.xlabel('Marca')\n",
        "plt.ylabel('Tempo máximo de entrega')\n",
        "plt.legend();"
      ],
      "metadata": {
        "id": "8PwxvYwzw2OD"
      },
      "execution_count": null,
      "outputs": []
    },
    {
      "cell_type": "markdown",
      "source": [
        "# **MISSING VALUES**"
      ],
      "metadata": {
        "id": "KFY4MsABzD8S"
      }
    },
    {
      "cell_type": "code",
      "source": [
        "#verificar se temos dados faltantes\n",
        "df.isnull().sum()"
      ],
      "metadata": {
        "id": "IikmUUnwzGvi"
      },
      "execution_count": null,
      "outputs": []
    },
    {
      "cell_type": "markdown",
      "source": [
        "# **DESCOBRINDO O LUCRO POR ANO E POR MARCA**"
      ],
      "metadata": {
        "id": "LToEyromzb-L"
      }
    },
    {
      "cell_type": "code",
      "source": [
        "df.groupby([df['Data Venda'].dt.year,'Marca'])['Lucro'].sum()"
      ],
      "metadata": {
        "id": "h05q1vLpzghx"
      },
      "execution_count": null,
      "outputs": []
    },
    {
      "cell_type": "code",
      "source": [
        "#organizando os números para facilitar a leitura\n",
        "pd.options.display.float_format = '{.2f}'.format"
      ],
      "metadata": {
        "id": "XjjCYIgS6ztl"
      },
      "execution_count": 150,
      "outputs": []
    },
    {
      "cell_type": "code",
      "source": [
        "#resetando o index\n",
        "lucro_ano = df.groupby([df['Data Venda'].dt.year,'Marca'])['Lucro'].sum().reset_index()\n",
        "lucro_ano"
      ],
      "metadata": {
        "id": "wsInS5w97N6S"
      },
      "execution_count": null,
      "outputs": []
    },
    {
      "cell_type": "code",
      "source": [
        "#gráfico de total de produtos vendidos\n",
        "df.groupby('Produto')['Quantidade'].sum().sort_values(ascending=True).plot.barh(title='Quantida vendida por produto', color='purple');\n",
        "plt.xlabel('Quantidade total vendida')\n",
        "plt.ylabel('Produto');"
      ],
      "metadata": {
        "id": "LLApwvAO882h"
      },
      "execution_count": null,
      "outputs": []
    },
    {
      "cell_type": "code",
      "source": [
        "df.groupby('Produto')['Lucro'].sum().sort_values(ascending=True).plot.barh(color='midnightblue')\n",
        "plt.xlabel('Produto')\n",
        "plt.ylabel('Lucro total');"
      ],
      "metadata": {
        "id": "QLFlKIAr-xE5"
      },
      "execution_count": null,
      "outputs": []
    },
    {
      "cell_type": "code",
      "source": [
        "##gráfico de total de produtos vendidos por marca\n",
        "df.groupby([df['Marca'],'Produto'])['Quantidade'].sum().sort_values(ascending=True).plot.pie(title='Quantida vendida por produto(empresa)');"
      ],
      "metadata": {
        "id": "hb6ARaTo9wik"
      },
      "execution_count": null,
      "outputs": []
    },
    {
      "cell_type": "code",
      "source": [
        "df.groupby([df['Marca'],'Produto'])['Lucro'].sum().sort_values(ascending=True).plot.barh(color='midnightblue',title='Lucro por produto(empresa)')\n",
        "plt.xlabel('Lucro')\n",
        "plt.ylabel('Produto');"
      ],
      "metadata": {
        "id": "NVHV-a5XFj9K"
      },
      "execution_count": null,
      "outputs": []
    },
    {
      "cell_type": "code",
      "source": [
        "#selecionando apenas as vendas do ano 2009\n",
        "df_2009 = df[df['Data Venda'].dt.year == 2009]"
      ],
      "metadata": {
        "id": "nlgzVOMzHROT"
      },
      "execution_count": null,
      "outputs": []
    },
    {
      "cell_type": "code",
      "source": [
        "#lucro mês a mês em 2009\n",
        "df_2009.groupby(df_2009['Data Venda'].dt.month)['Lucro'].sum().plot.bar(title='Lucro x Mês', color='midnightblue')\n",
        "plt.xlabel('Mês')\n",
        "plt.ylabel('Luco')\n",
        "plt.xticks(rotation='horizontal');"
      ],
      "metadata": {
        "id": "sy98MasOHqGQ"
      },
      "execution_count": null,
      "outputs": []
    },
    {
      "cell_type": "code",
      "source": [
        "df['Tempo de Envio'].describe()"
      ],
      "metadata": {
        "id": "mLzX0C9yJooh"
      },
      "execution_count": null,
      "outputs": []
    },
    {
      "cell_type": "code",
      "source": [
        "plt.boxplot(df['Tempo de Envio']);"
      ],
      "metadata": {
        "id": "Ult6cGi6J94i"
      },
      "execution_count": null,
      "outputs": []
    },
    {
      "cell_type": "code",
      "source": [
        "plt.hist(df['Tempo de Envio']);"
      ],
      "metadata": {
        "id": "MHAITYNoKIU1"
      },
      "execution_count": null,
      "outputs": []
    },
    {
      "cell_type": "code",
      "source": [
        "#identificando o outlier\n",
        "df[df['Tempo de Envio']==4]"
      ],
      "metadata": {
        "id": "JBLG3xM8Ozfo"
      },
      "execution_count": null,
      "outputs": []
    }
  ]
}